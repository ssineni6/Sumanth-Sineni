{
 "cells": [
  {
   "cell_type": "markdown",
   "metadata": {},
   "source": [
    "### Introduction\n",
    "\n",
    "Welcome to your first lab notebook. This one has just basic functions for importing and finding your way around a dataframe. \n",
    "\n",
    "For each incomplete function, you need to write one line of code to complete the function. Start by running the cell called 'import libraries'. Then, for each subsequent code cell, add the line of code and run the cell. If it runs without error, move on to the next cell. When all of your cells run properly, run the tests cell. If that runs properly, submit the notebook on Blackboard.\n",
    "\n",
    "DO NOT change any code that is already in this notebook. I can guarantee you that I have built and run this all the way through, including the tests. Absolutely nothing needs to be edited or corrected. You simply need to write one line of code for each function to complete it. \n",
    "\n",
    "If you have done everything properly, then the last cell of code - the tests - will run without any output at all (you'll just see the green check mark). If you have done something wrong, you will get an error message: if it is an error directly related to the test it will say \"test # failed\", if it is some other type of error then the actual error will print out. I have not written error messages, but you will know from what prints out which function has an error. In fact, if you have done something wrong, chances are that the erroneous function itself will not run and you'll get an error at that point, prior to even reaching the tests. \n",
    "\n",
    "All of the answers you need will be in example notebooks I have provided, or in the API references for scikit-learn, pandas or seaborn. "
   ]
  },
  {
   "cell_type": "markdown",
   "metadata": {},
   "source": [
    "### Import libraries"
   ]
  },
  {
   "cell_type": "code",
   "execution_count": null,
   "metadata": {},
   "outputs": [],
   "source": [
    "import pytest\n",
    "import pandas as pd\n",
    "import numpy as np \n",
    "import seaborn as sns"
   ]
  },
  {
   "cell_type": "markdown",
   "metadata": {},
   "source": [
    "### Import data\n",
    "\n",
    "I have completed this first one for you as an example. All of the functions in this lab will be one-liners, and I give you a lot to work with. Rest assured that future labs will not be so easy..."
   ]
  },
  {
   "cell_type": "code",
   "execution_count": null,
   "metadata": {},
   "outputs": [],
   "source": [
    "# Complete the following function to import the PENGUINS dataset from Seaborn, and save it as a dataframe called df1\n",
    "\n",
    "def import_data():                          # I give you this, it is the start of the function\n",
    "    df1 = sns.load_dataset('penguins')      # You provide this line of code for each function\n",
    "    return df1                              # I give you this, it says what the function should output\n",
    "\n",
    "df1 = import_data()                         # I give you this, it assigns a variable name to the function and output\n",
    "df1.head()                                  # Here, we run the function and look at the output"
   ]
  },
  {
   "cell_type": "markdown",
   "metadata": {},
   "source": [
    "### Describe dataframe"
   ]
  },
  {
   "cell_type": "code",
   "execution_count": null,
   "metadata": {},
   "outputs": [],
   "source": [
    "# Complete the following function to describe the dataset\n",
    "\n",
    "def describe_df(import_data):\n",
    "\n",
    "    return describe_df\n",
    "\n",
    "describe_df = describe_df(import_data)\n",
    "describe_df"
   ]
  },
  {
   "cell_type": "code",
   "execution_count": null,
   "metadata": {},
   "outputs": [],
   "source": [
    "# Complete the function to print a list of columns in the dataset\n",
    "\n",
    "def what_columns(import_data):\n",
    "\n",
    "    return what_columns\n",
    "\n",
    "what_columns = what_columns(import_data)\n",
    "what_columns"
   ]
  },
  {
   "cell_type": "code",
   "execution_count": null,
   "metadata": {},
   "outputs": [],
   "source": [
    "# Complete the function to print a list of the features with their data types\n",
    "\n",
    "def what_types(import_data):\n",
    "\n",
    "    return what_types\n",
    "\n",
    "what_types = what_types(import_data)\n",
    "what_types"
   ]
  },
  {
   "cell_type": "code",
   "execution_count": null,
   "metadata": {},
   "outputs": [],
   "source": [
    "# Complete the following function to print the number of rows and columns in the dataset\n",
    "\n",
    "def rows_cols(import_data):\n",
    "\n",
    "    return rows_cols\n",
    "\n",
    "rows_cols = rows_cols(import_data)\n",
    "rows_cols"
   ]
  },
  {
   "cell_type": "markdown",
   "metadata": {},
   "source": [
    "### Select rows and columns"
   ]
  },
  {
   "cell_type": "code",
   "execution_count": null,
   "metadata": {},
   "outputs": [],
   "source": [
    "# Complete the following function to select the second row of the dataframe\n",
    "\n",
    "def select_row_by_location(import_data):\n",
    "\n",
    "    return select_row_by_location\n",
    "\n",
    "select_row_by_location = select_row_by_location(import_data)\n",
    "select_row_by_location"
   ]
  },
  {
   "cell_type": "code",
   "execution_count": null,
   "metadata": {},
   "outputs": [],
   "source": [
    "# Complete the following function to select the first column of the dataframe\n",
    "\n",
    "def select_column_by_location(import_data):\n",
    "\n",
    "    return select_column_by_location\n",
    "\n",
    "select_column_by_location = select_column_by_location(import_data)\n",
    "select_column_by_location"
   ]
  },
  {
   "cell_type": "code",
   "execution_count": null,
   "metadata": {},
   "outputs": [],
   "source": [
    "# Complete the following function to select rows where the sex = Female\n",
    "\n",
    "def select_row_by_condition(import_data):\n",
    "\n",
    "    return select_row_by_condition\n",
    "\n",
    "select_row_by_condition = select_row_by_condition(import_data)\n",
    "select_row_by_condition"
   ]
  },
  {
   "cell_type": "code",
   "execution_count": null,
   "metadata": {},
   "outputs": [],
   "source": [
    "# Complete the following function to select the numeric columns where type is either int64 or float64 \n",
    "\n",
    "def select_column_by_condition(import_data):\n",
    "\n",
    "    return select_column_by_condition\n",
    "\n",
    "select_column_by_condition = select_column_by_condition(import_data)\n",
    "select_column_by_condition"
   ]
  },
  {
   "cell_type": "markdown",
   "metadata": {},
   "source": [
    "### TESTS"
   ]
  },
  {
   "cell_type": "code",
   "execution_count": null,
   "metadata": {},
   "outputs": [],
   "source": [
    "try:\n",
    "    assert isinstance(import_data(), pd.DataFrame)\n",
    "except:\n",
    "    print(\"test 1 failed\")\n",
    "\n",
    "try:\n",
    "    assert describe_df.iloc[3,1] == 13.1\n",
    "except:\n",
    "    print(\"test 2 failed\")\n",
    "\n",
    "try:\n",
    "    assert what_columns[2] == 'bill_length_mm'  \n",
    "except:\n",
    "    print(\"test 3 failed\")\n",
    "\n",
    "try:\n",
    "    assert what_types[5] == 'float64'\n",
    "except:\n",
    "    print(\"test 4 failed\")\n",
    "\n",
    "try:\n",
    "    assert rows_cols[0] == 344\n",
    "except:\n",
    "    print(\"test 5 failed\")\n",
    "\n",
    "try:\n",
    "    assert select_row_by_location[3] == 17.4\n",
    "except:\n",
    "    print(\"test 6 failed\")\n",
    "\n",
    "try:\n",
    "    assert select_column_by_location[339] == \"Gentoo\"\n",
    "except:\n",
    "    print(\"test 7 failed\")\n",
    "\n",
    "try:\n",
    "    assert select_row_by_condition.iloc[12,3] == 18.6\n",
    "except:\n",
    "    print(\"test 8 failed\")\n",
    "\n",
    "try:\n",
    "    assert select_column_by_condition.iloc[2,2] == 195\n",
    "except:\n",
    "    print(\"test 9 failed\")"
   ]
  }
 ],
 "metadata": {
  "kernelspec": {
   "display_name": "Python 3",
   "language": "python",
   "name": "python3"
  },
  "language_info": {
   "codemirror_mode": {
    "name": "ipython",
    "version": 3
   },
   "file_extension": ".py",
   "mimetype": "text/x-python",
   "name": "python",
   "nbconvert_exporter": "python",
   "pygments_lexer": "ipython3",
   "version": "3.9.13"
  },
  "orig_nbformat": 4
 },
 "nbformat": 4,
 "nbformat_minor": 2
}
